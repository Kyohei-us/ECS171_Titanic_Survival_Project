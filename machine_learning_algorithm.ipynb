{
 "cells": [
  {
   "cell_type": "code",
   "execution_count": 276,
   "id": "supreme-pipeline",
   "metadata": {},
   "outputs": [
    {
     "data": {
      "text/html": [
       "<div>\n",
       "<style scoped>\n",
       "    .dataframe tbody tr th:only-of-type {\n",
       "        vertical-align: middle;\n",
       "    }\n",
       "\n",
       "    .dataframe tbody tr th {\n",
       "        vertical-align: top;\n",
       "    }\n",
       "\n",
       "    .dataframe thead th {\n",
       "        text-align: right;\n",
       "    }\n",
       "</style>\n",
       "<table border=\"1\" class=\"dataframe\">\n",
       "  <thead>\n",
       "    <tr style=\"text-align: right;\">\n",
       "      <th></th>\n",
       "      <th>Survived</th>\n",
       "      <th>Pclass</th>\n",
       "      <th>Sex</th>\n",
       "      <th>Age</th>\n",
       "      <th>SibSp</th>\n",
       "      <th>Parch</th>\n",
       "      <th>Fare</th>\n",
       "      <th>Embarked</th>\n",
       "    </tr>\n",
       "  </thead>\n",
       "  <tbody>\n",
       "    <tr>\n",
       "      <th>0</th>\n",
       "      <td>0</td>\n",
       "      <td>3</td>\n",
       "      <td>0</td>\n",
       "      <td>22.000000</td>\n",
       "      <td>1</td>\n",
       "      <td>0</td>\n",
       "      <td>7.2500</td>\n",
       "      <td>0</td>\n",
       "    </tr>\n",
       "    <tr>\n",
       "      <th>1</th>\n",
       "      <td>1</td>\n",
       "      <td>1</td>\n",
       "      <td>1</td>\n",
       "      <td>38.000000</td>\n",
       "      <td>1</td>\n",
       "      <td>0</td>\n",
       "      <td>71.2833</td>\n",
       "      <td>1</td>\n",
       "    </tr>\n",
       "    <tr>\n",
       "      <th>2</th>\n",
       "      <td>1</td>\n",
       "      <td>3</td>\n",
       "      <td>1</td>\n",
       "      <td>26.000000</td>\n",
       "      <td>0</td>\n",
       "      <td>0</td>\n",
       "      <td>7.9250</td>\n",
       "      <td>0</td>\n",
       "    </tr>\n",
       "    <tr>\n",
       "      <th>3</th>\n",
       "      <td>1</td>\n",
       "      <td>1</td>\n",
       "      <td>1</td>\n",
       "      <td>35.000000</td>\n",
       "      <td>1</td>\n",
       "      <td>0</td>\n",
       "      <td>53.1000</td>\n",
       "      <td>0</td>\n",
       "    </tr>\n",
       "    <tr>\n",
       "      <th>4</th>\n",
       "      <td>0</td>\n",
       "      <td>3</td>\n",
       "      <td>0</td>\n",
       "      <td>35.000000</td>\n",
       "      <td>0</td>\n",
       "      <td>0</td>\n",
       "      <td>8.0500</td>\n",
       "      <td>0</td>\n",
       "    </tr>\n",
       "    <tr>\n",
       "      <th>...</th>\n",
       "      <td>...</td>\n",
       "      <td>...</td>\n",
       "      <td>...</td>\n",
       "      <td>...</td>\n",
       "      <td>...</td>\n",
       "      <td>...</td>\n",
       "      <td>...</td>\n",
       "      <td>...</td>\n",
       "    </tr>\n",
       "    <tr>\n",
       "      <th>886</th>\n",
       "      <td>0</td>\n",
       "      <td>2</td>\n",
       "      <td>0</td>\n",
       "      <td>27.000000</td>\n",
       "      <td>0</td>\n",
       "      <td>0</td>\n",
       "      <td>13.0000</td>\n",
       "      <td>0</td>\n",
       "    </tr>\n",
       "    <tr>\n",
       "      <th>887</th>\n",
       "      <td>1</td>\n",
       "      <td>1</td>\n",
       "      <td>1</td>\n",
       "      <td>19.000000</td>\n",
       "      <td>0</td>\n",
       "      <td>0</td>\n",
       "      <td>30.0000</td>\n",
       "      <td>0</td>\n",
       "    </tr>\n",
       "    <tr>\n",
       "      <th>888</th>\n",
       "      <td>0</td>\n",
       "      <td>3</td>\n",
       "      <td>1</td>\n",
       "      <td>29.699118</td>\n",
       "      <td>1</td>\n",
       "      <td>2</td>\n",
       "      <td>23.4500</td>\n",
       "      <td>0</td>\n",
       "    </tr>\n",
       "    <tr>\n",
       "      <th>889</th>\n",
       "      <td>1</td>\n",
       "      <td>1</td>\n",
       "      <td>0</td>\n",
       "      <td>26.000000</td>\n",
       "      <td>0</td>\n",
       "      <td>0</td>\n",
       "      <td>30.0000</td>\n",
       "      <td>1</td>\n",
       "    </tr>\n",
       "    <tr>\n",
       "      <th>890</th>\n",
       "      <td>0</td>\n",
       "      <td>3</td>\n",
       "      <td>0</td>\n",
       "      <td>32.000000</td>\n",
       "      <td>0</td>\n",
       "      <td>0</td>\n",
       "      <td>7.7500</td>\n",
       "      <td>2</td>\n",
       "    </tr>\n",
       "  </tbody>\n",
       "</table>\n",
       "<p>891 rows × 8 columns</p>\n",
       "</div>"
      ],
      "text/plain": [
       "     Survived  Pclass  Sex        Age  SibSp  Parch     Fare  Embarked\n",
       "0           0       3    0  22.000000      1      0   7.2500         0\n",
       "1           1       1    1  38.000000      1      0  71.2833         1\n",
       "2           1       3    1  26.000000      0      0   7.9250         0\n",
       "3           1       1    1  35.000000      1      0  53.1000         0\n",
       "4           0       3    0  35.000000      0      0   8.0500         0\n",
       "..        ...     ...  ...        ...    ...    ...      ...       ...\n",
       "886         0       2    0  27.000000      0      0  13.0000         0\n",
       "887         1       1    1  19.000000      0      0  30.0000         0\n",
       "888         0       3    1  29.699118      1      2  23.4500         0\n",
       "889         1       1    0  26.000000      0      0  30.0000         1\n",
       "890         0       3    0  32.000000      0      0   7.7500         2\n",
       "\n",
       "[891 rows x 8 columns]"
      ]
     },
     "execution_count": 276,
     "metadata": {},
     "output_type": "execute_result"
    }
   ],
   "source": [
    "# load data and imports\n",
    "import pandas as pd\n",
    "import seaborn as sbn\n",
    "from sklearn.model_selection import train_test_split\n",
    "import matplotlib.pyplot as plt\n",
    "\n",
    "clean_titanic_df = pd.read_csv('preprocessed_titanic.csv')\n",
    "\n",
    "clean_titanic_df = clean_titanic_df.drop(columns=['Name', 'PassengerId', 'Unnamed: 0'])\n",
    "\n",
    "train, test= train_test_split(clean_titanic_df,random_state=23, test_size = 0.2)\n",
    "\n",
    "X_train, y_train = train.drop(columns=['Survived']), train['Survived']\n",
    "X_test, y_test = test.drop(columns=['Survived']), test['Survived']\n",
    "\n",
    "clean_titanic_df"
   ]
  },
  {
   "cell_type": "code",
   "execution_count": 257,
   "id": "answering-consensus",
   "metadata": {},
   "outputs": [
    {
     "name": "stdout",
     "output_type": "stream",
     "text": [
      "   Pclass  Survived\n",
      "0       1  0.626437\n",
      "1       2  0.490066\n",
      "2       3  0.245478\n",
      "   Sex  Survived\n",
      "0    0  0.190789\n",
      "1    1  0.746094\n",
      "   Embarked  Survived\n",
      "0         0  0.338521\n",
      "1         1  0.570423\n",
      "2         2  0.410714\n"
     ]
    },
    {
     "data": {
      "text/plain": [
       "'\"\"\\nInsights and further adjustemnts to the data:\\n\\n    Survival is correlated to age, fare, class, and sex. \\n    \\n    based on the the histograms below:\\n    \\n        - people who did not survive were mainly around 30 years old and older.\\n        \\n        - people who did survive were 30 years old and younger. There is special density in the group of age<5.\\n        \\n        - Most people who belonged to the first class survived\\n        \\n        - most people who belonged to the third class did not survive\\n        \\n        - most people who did not survive did not pay a fare over 50 dollars\\n    \\n    possible data tunning:\\n        \\n        - consider turning age and fare into categorical data by using bins\\n        \\n        - combine SibSp and Parch into one column. Possibily turn it into a binary category of family and no family\\n    \\n'"
      ]
     },
     "execution_count": 257,
     "metadata": {},
     "output_type": "execute_result"
    },
    {
     "data": {
      "image/png": "[encoded data removed]",
      "text/plain": [
       "<Figure size 1440x360 with 2 Axes>"
      ]
     },
     "metadata": {
      "needs_background": "light"
     },
     "output_type": "display_data"
    },
    {
     "data": {
      "image/png": "[encoded data removed]",
      "text/plain": [
       "<Figure size 1440x360 with 2 Axes>"
      ]
     },
     "metadata": {
      "needs_background": "light"
     },
     "output_type": "display_data"
    },
    {
     "data": {
      "image/png": "[encoded data removed]",
      "text/plain": [
       "<Figure size 1440x360 with 4 Axes>"
      ]
     },
     "metadata": {
      "needs_background": "light"
     },
     "output_type": "display_data"
    },
    {
     "data": {
      "image/png": "[encoded data removed]",
      "text/plain": [
       "<Figure size 1440x360 with 4 Axes>"
      ]
     },
     "metadata": {
      "needs_background": "light"
     },
     "output_type": "display_data"
    },
    {
     "data": {
      "image/png": "[encoded data removed]",
      "text/plain": [
       "<Figure size 1440x360 with 4 Axes>"
      ]
     },
     "metadata": {
      "needs_background": "light"
     },
     "output_type": "display_data"
    },
    {
     "data": {
      "image/png": "[encoded data removed]",
      "text/plain": [
       "<Figure size 1440x360 with 4 Axes>"
      ]
     },
     "metadata": {
      "needs_background": "light"
     },
     "output_type": "display_data"
    },
    {
     "data": {
      "image/png": "[encoded data removed]",
      "text/plain": [
       "<Figure size 1440x360 with 4 Axes>"
      ]
     },
     "metadata": {
      "needs_background": "light"
     },
     "output_type": "display_data"
    },
    {
     "data": {
      "image/png": "[encoded data removed]",
      "text/plain": [
       "<Figure size 1440x360 with 4 Axes>"
      ]
     },
     "metadata": {
      "needs_background": "light"
     },
     "output_type": "display_data"
    },
    {
     "data": {
      "image/png": "[encoded data removed]",
      "text/plain": [
       "<Figure size 1440x360 with 2 Axes>"
      ]
     },
     "metadata": {
      "needs_background": "light"
     },
     "output_type": "display_data"
    },
    {
     "data": {
      "image/png": "[encoded data removed]",
      "text/plain": [
       "<Figure size 1440x360 with 2 Axes>"
      ]
     },
     "metadata": {
      "needs_background": "light"
     },
     "output_type": "display_data"
    },
    {
     "data": {
      "image/png": "[encoded data removed]",
      "text/plain": [
       "<Figure size 1440x360 with 2 Axes>"
      ]
     },
     "metadata": {
      "needs_background": "light"
     },
     "output_type": "display_data"
    },
    {
     "data": {
      "image/png": "[encoded data removed]",
      "text/plain": [
       "<Figure size 1440x360 with 2 Axes>"
      ]
     },
     "metadata": {
      "needs_background": "light"
     },
     "output_type": "display_data"
    },
    {
     "data": {
      "image/png": "[encoded data removed]",
      "text/plain": [
       "<Figure size 1440x360 with 2 Axes>"
      ]
     },
     "metadata": {
      "needs_background": "light"
     },
     "output_type": "display_data"
    },
    {
     "data": {
      "image/png": "[encoded data removed]",
      "text/plain": [
       "<Figure size 1440x360 with 2 Axes>"
      ]
     },
     "metadata": {
      "needs_background": "light"
     },
     "output_type": "display_data"
    }
   ],
   "source": [
    "\"\"\"\"\"\n",
    "First visualize the data to look for correlation or other patterns\n",
    "\"\"\"\"\"\n",
    "\n",
    "# check correlation between pairs of features. We are gonna see the average of people who survived by category for each categoric feature\n",
    "\n",
    "survived_class = train[['Pclass', 'Survived']].groupby(['Pclass'], as_index=False).mean().sort_values(by='Survived', ascending=False)\n",
    "print(survived_class)\n",
    "\n",
    "survived_sex = train[['Sex', 'Survived']].groupby(['Sex'], as_index = False).mean().sort_values(by='Sex')\n",
    "print(survived_sex)\n",
    "\n",
    "survived_embarked = train[['Embarked', 'Survived']].groupby(['Embarked'], as_index=False).mean().sort_values(by='Embarked')\n",
    "print(survived_embarked)\n",
    "\n",
    "# using histograms to visualize correlation between numerical data and survival\n",
    "# graph = sbn.FacetGrid(train, col = 'Survived')\n",
    "# graph.map(plt.hist, 'Age', bins = 20)\n",
    "\n",
    "# correlating age with survival\n",
    "train[['Age', 'Survived']].groupby('Survived').hist(bins=20, figsize = (20, 5))\n",
    "\n",
    "# correlating age and class with survival\n",
    "train[['Age', 'Survived', 'Pclass']].groupby(['Survived', 'Pclass']).hist(bins=20, figsize = (20, 5))\n",
    "\n",
    "# correlating fare with survival\n",
    "train[['Fare', 'Survived']].groupby(['Survived']).hist(bins=10, figsize = (20, 5))\n",
    "\n",
    "# correlating fare with survival\n",
    "train[['Parch', 'Survived']].groupby(['Survived']).hist(bins=10, figsize = (20, 5))\n",
    "\n",
    "train[['SibSp', 'Survived']].groupby(['Survived']).hist(bins=10, figsize = (20, 5))\n",
    "\n",
    "\"\"\"\"\"\n",
    "Insights and further adjustemnts to the data:\n",
    "\n",
    "    Survival is correlated to age, fare, class, and sex. \n",
    "    \n",
    "    based on the the histograms below:\n",
    "    \n",
    "        - people who did not survive were mainly around 30 years old and older.\n",
    "        \n",
    "        - people who did survive were 30 years old and younger. There is special density in the group of age<5.\n",
    "        \n",
    "        - Most people who belonged to the first class survived\n",
    "        \n",
    "        - most people who belonged to the third class did not survive\n",
    "        \n",
    "        - most people who did not survive did not pay a fare over 50 dollars\n",
    "    \n",
    "    possible data tunning:\n",
    "        \n",
    "        - consider turning age and fare into categorical data by using bins\n",
    "        \n",
    "        - combine SibSp and Parch into one column. Possibily turn it into a binary category of family and no family\n",
    "    \n",
    "\"\"\"\"\"\n",
    "\n",
    "\n",
    "\n"
   ]
  },
  {
   "cell_type": "code",
   "execution_count": 258,
   "id": "available-galaxy",
   "metadata": {},
   "outputs": [
    {
     "name": "stdout",
     "output_type": "stream",
     "text": [
      "              precision    recall  f1-score   support\n",
      "\n",
      "           0       0.81      0.82      0.81       115\n",
      "           1       0.67      0.66      0.66        64\n",
      "\n",
      "    accuracy                           0.76       179\n",
      "   macro avg       0.74      0.74      0.74       179\n",
      "weighted avg       0.76      0.76      0.76       179\n",
      "\n",
      "0.7597765363128491\n"
     ]
    }
   ],
   "source": [
    "# logistic regression\n",
    "from sklearn.linear_model import LogisticRegression\n",
    "from sklearn.metrics import classification_report\n",
    "\n",
    "lor = LogisticRegression(penalty= 'none', max_iter= 1000, solver='newton-cg').fit(X_train, y_train)\n",
    "print(classification_report(y_test, lor.predict(X_test)))\n",
    "print(lor.score(X_test, y_test))\n",
    "\n"
   ]
  },
  {
   "cell_type": "code",
   "execution_count": 259,
   "id": "complex-password",
   "metadata": {},
   "outputs": [
    {
     "name": "stdout",
     "output_type": "stream",
     "text": [
      "              precision    recall  f1-score   support\n",
      "\n",
      "           0       0.81      0.89      0.85       115\n",
      "           1       0.75      0.62      0.68        64\n",
      "\n",
      "    accuracy                           0.79       179\n",
      "   macro avg       0.78      0.76      0.77       179\n",
      "weighted avg       0.79      0.79      0.79       179\n",
      "\n",
      "0.7932960893854749\n"
     ]
    }
   ],
   "source": [
    "# categorical bayes classifier\n",
    "\n",
    "from sklearn.naive_bayes import CategoricalNB\n",
    "\n",
    "categorical_X = clean_titanic_df[['Pclass', 'Sex', 'Embarked']]\n",
    "categorical_y = clean_titanic_df['Survived']\n",
    "\n",
    "categorical_NB = CategoricalNB()\n",
    "categorical_NB.fit(X_train, y_train)\n",
    "print(classification_report(y_test, categorical_NB.predict(X_test)))\n",
    "print(categorical_NB.score(X_test, y_test))\n"
   ]
  },
  {
   "cell_type": "code",
   "execution_count": 260,
   "id": "optical-healthcare",
   "metadata": {},
   "outputs": [
    {
     "name": "stdout",
     "output_type": "stream",
     "text": [
      "              precision    recall  f1-score   support\n",
      "\n",
      "           0       0.85      0.89      0.87       115\n",
      "           1       0.78      0.72      0.75        64\n",
      "\n",
      "    accuracy                           0.83       179\n",
      "   macro avg       0.81      0.80      0.81       179\n",
      "weighted avg       0.82      0.83      0.83       179\n",
      "\n",
      "0.8268156424581006\n"
     ]
    }
   ],
   "source": [
    "# gaussian bayes classifier \n",
    "\n",
    "from sklearn.naive_bayes import GaussianNB\n",
    "\n",
    "NB = GaussianNB()\n",
    "numericaldata = X_train[]\n",
    "NB.fit(X_train, y_train)\n",
    "print(classification_report(y_test, NB.predict(X_test)))\n",
    "print(NB.score(X_test, y_test))\n"
   ]
  },
  {
   "cell_type": "code",
   "execution_count": 263,
   "id": "exempt-record",
   "metadata": {},
   "outputs": [
    {
     "name": "stdout",
     "output_type": "stream",
     "text": [
      "              precision    recall  f1-score   support\n",
      "\n",
      "          -1       0.82      0.86      0.84       115\n",
      "           1       0.72      0.66      0.69        64\n",
      "\n",
      "    accuracy                           0.79       179\n",
      "   macro avg       0.77      0.76      0.76       179\n",
      "weighted avg       0.78      0.79      0.79       179\n",
      "\n",
      "0.7877094972067039\n"
     ]
    },
    {
     "data": {
      "text/html": [
       "<div>\n",
       "<style scoped>\n",
       "    .dataframe tbody tr th:only-of-type {\n",
       "        vertical-align: middle;\n",
       "    }\n",
       "\n",
       "    .dataframe tbody tr th {\n",
       "        vertical-align: top;\n",
       "    }\n",
       "\n",
       "    .dataframe thead th {\n",
       "        text-align: right;\n",
       "    }\n",
       "</style>\n",
       "<table border=\"1\" class=\"dataframe\">\n",
       "  <thead>\n",
       "    <tr style=\"text-align: right;\">\n",
       "      <th></th>\n",
       "      <th>Pclass</th>\n",
       "      <th>Sex</th>\n",
       "      <th>Age</th>\n",
       "      <th>SibSp</th>\n",
       "      <th>Parch</th>\n",
       "      <th>Fare</th>\n",
       "      <th>Embarked</th>\n",
       "    </tr>\n",
       "  </thead>\n",
       "  <tbody>\n",
       "    <tr>\n",
       "      <th>151</th>\n",
       "      <td>1</td>\n",
       "      <td>1</td>\n",
       "      <td>-0.571912</td>\n",
       "      <td>1</td>\n",
       "      <td>0</td>\n",
       "      <td>0.677439</td>\n",
       "      <td>0</td>\n",
       "    </tr>\n",
       "    <tr>\n",
       "      <th>753</th>\n",
       "      <td>3</td>\n",
       "      <td>0</td>\n",
       "      <td>-0.495775</td>\n",
       "      <td>0</td>\n",
       "      <td>0</td>\n",
       "      <td>-0.496656</td>\n",
       "      <td>0</td>\n",
       "    </tr>\n",
       "    <tr>\n",
       "      <th>746</th>\n",
       "      <td>3</td>\n",
       "      <td>0</td>\n",
       "      <td>-1.028731</td>\n",
       "      <td>1</td>\n",
       "      <td>1</td>\n",
       "      <td>-0.249570</td>\n",
       "      <td>0</td>\n",
       "    </tr>\n",
       "    <tr>\n",
       "      <th>684</th>\n",
       "      <td>2</td>\n",
       "      <td>0</td>\n",
       "      <td>2.321278</td>\n",
       "      <td>1</td>\n",
       "      <td>1</td>\n",
       "      <td>0.125434</td>\n",
       "      <td>0</td>\n",
       "    </tr>\n",
       "    <tr>\n",
       "      <th>887</th>\n",
       "      <td>1</td>\n",
       "      <td>1</td>\n",
       "      <td>-0.800322</td>\n",
       "      <td>0</td>\n",
       "      <td>0</td>\n",
       "      <td>-0.054568</td>\n",
       "      <td>0</td>\n",
       "    </tr>\n",
       "    <tr>\n",
       "      <th>...</th>\n",
       "      <td>...</td>\n",
       "      <td>...</td>\n",
       "      <td>...</td>\n",
       "      <td>...</td>\n",
       "      <td>...</td>\n",
       "      <td>...</td>\n",
       "      <td>...</td>\n",
       "    </tr>\n",
       "    <tr>\n",
       "      <th>31</th>\n",
       "      <td>1</td>\n",
       "      <td>1</td>\n",
       "      <td>0.014272</td>\n",
       "      <td>1</td>\n",
       "      <td>0</td>\n",
       "      <td>2.275871</td>\n",
       "      <td>1</td>\n",
       "    </tr>\n",
       "    <tr>\n",
       "      <th>488</th>\n",
       "      <td>3</td>\n",
       "      <td>0</td>\n",
       "      <td>0.037181</td>\n",
       "      <td>0</td>\n",
       "      <td>0</td>\n",
       "      <td>-0.493572</td>\n",
       "      <td>0</td>\n",
       "    </tr>\n",
       "    <tr>\n",
       "      <th>40</th>\n",
       "      <td>3</td>\n",
       "      <td>1</td>\n",
       "      <td>0.798546</td>\n",
       "      <td>1</td>\n",
       "      <td>0</td>\n",
       "      <td>-0.465072</td>\n",
       "      <td>0</td>\n",
       "    </tr>\n",
       "    <tr>\n",
       "      <th>742</th>\n",
       "      <td>1</td>\n",
       "      <td>1</td>\n",
       "      <td>-0.648048</td>\n",
       "      <td>2</td>\n",
       "      <td>2</td>\n",
       "      <td>4.592978</td>\n",
       "      <td>1</td>\n",
       "    </tr>\n",
       "    <tr>\n",
       "      <th>595</th>\n",
       "      <td>3</td>\n",
       "      <td>0</td>\n",
       "      <td>0.494000</td>\n",
       "      <td>1</td>\n",
       "      <td>1</td>\n",
       "      <td>-0.171569</td>\n",
       "      <td>0</td>\n",
       "    </tr>\n",
       "  </tbody>\n",
       "</table>\n",
       "<p>712 rows × 7 columns</p>\n",
       "</div>"
      ],
      "text/plain": [
       "     Pclass  Sex       Age  SibSp  Parch      Fare  Embarked\n",
       "151       1    1 -0.571912      1      0  0.677439         0\n",
       "753       3    0 -0.495775      0      0 -0.496656         0\n",
       "746       3    0 -1.028731      1      1 -0.249570         0\n",
       "684       2    0  2.321278      1      1  0.125434         0\n",
       "887       1    1 -0.800322      0      0 -0.054568         0\n",
       "..      ...  ...       ...    ...    ...       ...       ...\n",
       "31        1    1  0.014272      1      0  2.275871         1\n",
       "488       3    0  0.037181      0      0 -0.493572         0\n",
       "40        3    1  0.798546      1      0 -0.465072         0\n",
       "742       1    1 -0.648048      2      2  4.592978         1\n",
       "595       3    0  0.494000      1      1 -0.171569         0\n",
       "\n",
       "[712 rows x 7 columns]"
      ]
     },
     "execution_count": 263,
     "metadata": {},
     "output_type": "execute_result"
    }
   ],
   "source": [
    "# support vector machine \n",
    "import matplotlib.pyplot as plt\n",
    "from sklearn.preprocessing import StandardScaler\n",
    "from sklearn.svm import SVC\n",
    "\n",
    "clf = SVC(kernel = 'linear')\n",
    "\n",
    "# scale numerical attributes\n",
    "scaler = StandardScaler()\n",
    "scaled_numerical_columns = scaler.fit_transform(X_train[['Age', 'Fare']])\n",
    "X_train[['Age', 'Fare']] = scaled_numerical_columns\n",
    "svm_y_train = y_train.replace({0: -1})\n",
    "\n",
    "scaled_numerical_columns = scaler.fit_transform(X_test[['Age', 'Fare']])\n",
    "X_test[['Age', 'Fare']] = scaled_numerical_columns\n",
    "svm_y_test = y_test.replace({0: -1})\n",
    "\n",
    "clf.fit(X_train, svm_y_train.to_numpy() )\n",
    "\n",
    "\n",
    "\n",
    "print(classification_report(svm_y_test, clf.predict(X_test)))\n",
    "print(clf.score(X_test, svm_y_test))\n",
    "X_train"
   ]
  },
  {
   "cell_type": "code",
   "execution_count": 264,
   "id": "painted-appliance",
   "metadata": {},
   "outputs": [],
   "source": [
    "# results upon data readjustment\n",
    "\n",
    "# create age categories (DO NO RUN THIS CELL TWICE! IF RAN A SECOND TIME, MOST VALUES WILL BE TURNED INTO 1):\n",
    "age_bins = pd.cut( clean_titanic_df['Age'], 10, retbins = True)\n",
    "\n",
    "i = 0\n",
    "j = 0\n",
    "while i < 72:\n",
    "    clean_titanic_df.loc[(clean_titanic_df['Age'] > i) &  (clean_titanic_df['Age'] <= i +8), 'Age'] = j\n",
    "    j += 1\n",
    "    i += 8\n",
    "\n"
   ]
  },
  {
   "cell_type": "code",
   "execution_count": 265,
   "id": "closing-glasgow",
   "metadata": {},
   "outputs": [
    {
     "name": "stdout",
     "output_type": "stream",
     "text": [
      "(0        (-0.001, 7.854]\n",
      "1      (39.688, 512.329]\n",
      "2          (7.854, 10.5]\n",
      "3      (39.688, 512.329]\n",
      "4          (7.854, 10.5]\n",
      "             ...        \n",
      "886       (10.5, 21.679]\n",
      "887     (21.679, 39.688]\n",
      "888     (21.679, 39.688]\n",
      "889     (21.679, 39.688]\n",
      "890      (-0.001, 7.854]\n",
      "Name: Fare, Length: 891, dtype: category\n",
      "Categories (5, interval[float64]): [(-0.001, 7.854] < (7.854, 10.5] < (10.5, 21.679] < (21.679, 39.688] < (39.688, 512.329]], array([  0.    ,   7.8542,  10.5   ,  21.6792,  39.6875, 512.3292]))\n"
     ]
    }
   ],
   "source": [
    "# create Fare category\n",
    "\n",
    "fare_bins = pd.qcut(clean_titanic_df['Fare'], 5, retbins = True)\n",
    "print(fare_bins)\n",
    "\n",
    "clean_titanic_df.loc[clean_titanic_df['Fare'] <= 7, 'Fare'] = 0\n",
    "clean_titanic_df.loc[(clean_titanic_df['Fare'] > 7) & (clean_titanic_df['Fare'] <= 10 ), 'Fare'] = 1\n",
    "clean_titanic_df.loc[(clean_titanic_df['Fare'] > 10) & (clean_titanic_df['Fare'] <= 21 ), 'Fare'] = 2\n",
    "clean_titanic_df.loc[(clean_titanic_df['Fare'] > 21) & (clean_titanic_df['Fare'] <= 40 ), 'Fare'] = 3\n",
    "clean_titanic_df.loc[clean_titanic_df['Fare'] > 40 , 'Fare'] = 4"
   ]
  },
  {
   "cell_type": "code",
   "execution_count": 266,
   "id": "finite-sponsorship",
   "metadata": {},
   "outputs": [
    {
     "data": {
      "text/html": [
       "<div>\n",
       "<style scoped>\n",
       "    .dataframe tbody tr th:only-of-type {\n",
       "        vertical-align: middle;\n",
       "    }\n",
       "\n",
       "    .dataframe tbody tr th {\n",
       "        vertical-align: top;\n",
       "    }\n",
       "\n",
       "    .dataframe thead th {\n",
       "        text-align: right;\n",
       "    }\n",
       "</style>\n",
       "<table border=\"1\" class=\"dataframe\">\n",
       "  <thead>\n",
       "    <tr style=\"text-align: right;\">\n",
       "      <th></th>\n",
       "      <th>Pclass</th>\n",
       "      <th>Sex</th>\n",
       "      <th>Age</th>\n",
       "      <th>SibSp</th>\n",
       "      <th>Parch</th>\n",
       "      <th>Fare</th>\n",
       "      <th>Embarked</th>\n",
       "    </tr>\n",
       "  </thead>\n",
       "  <tbody>\n",
       "    <tr>\n",
       "      <th>151</th>\n",
       "      <td>1</td>\n",
       "      <td>1</td>\n",
       "      <td>2.0</td>\n",
       "      <td>1</td>\n",
       "      <td>0</td>\n",
       "      <td>4.0</td>\n",
       "      <td>0</td>\n",
       "    </tr>\n",
       "    <tr>\n",
       "      <th>753</th>\n",
       "      <td>3</td>\n",
       "      <td>0</td>\n",
       "      <td>2.0</td>\n",
       "      <td>0</td>\n",
       "      <td>0</td>\n",
       "      <td>1.0</td>\n",
       "      <td>0</td>\n",
       "    </tr>\n",
       "    <tr>\n",
       "      <th>746</th>\n",
       "      <td>3</td>\n",
       "      <td>0</td>\n",
       "      <td>1.0</td>\n",
       "      <td>1</td>\n",
       "      <td>1</td>\n",
       "      <td>2.0</td>\n",
       "      <td>0</td>\n",
       "    </tr>\n",
       "    <tr>\n",
       "      <th>684</th>\n",
       "      <td>2</td>\n",
       "      <td>0</td>\n",
       "      <td>7.0</td>\n",
       "      <td>1</td>\n",
       "      <td>1</td>\n",
       "      <td>3.0</td>\n",
       "      <td>0</td>\n",
       "    </tr>\n",
       "    <tr>\n",
       "      <th>887</th>\n",
       "      <td>1</td>\n",
       "      <td>1</td>\n",
       "      <td>2.0</td>\n",
       "      <td>0</td>\n",
       "      <td>0</td>\n",
       "      <td>3.0</td>\n",
       "      <td>0</td>\n",
       "    </tr>\n",
       "    <tr>\n",
       "      <th>...</th>\n",
       "      <td>...</td>\n",
       "      <td>...</td>\n",
       "      <td>...</td>\n",
       "      <td>...</td>\n",
       "      <td>...</td>\n",
       "      <td>...</td>\n",
       "      <td>...</td>\n",
       "    </tr>\n",
       "    <tr>\n",
       "      <th>31</th>\n",
       "      <td>1</td>\n",
       "      <td>1</td>\n",
       "      <td>3.0</td>\n",
       "      <td>1</td>\n",
       "      <td>0</td>\n",
       "      <td>4.0</td>\n",
       "      <td>1</td>\n",
       "    </tr>\n",
       "    <tr>\n",
       "      <th>488</th>\n",
       "      <td>3</td>\n",
       "      <td>0</td>\n",
       "      <td>3.0</td>\n",
       "      <td>0</td>\n",
       "      <td>0</td>\n",
       "      <td>1.0</td>\n",
       "      <td>0</td>\n",
       "    </tr>\n",
       "    <tr>\n",
       "      <th>40</th>\n",
       "      <td>3</td>\n",
       "      <td>1</td>\n",
       "      <td>4.0</td>\n",
       "      <td>1</td>\n",
       "      <td>0</td>\n",
       "      <td>1.0</td>\n",
       "      <td>0</td>\n",
       "    </tr>\n",
       "    <tr>\n",
       "      <th>742</th>\n",
       "      <td>1</td>\n",
       "      <td>1</td>\n",
       "      <td>2.0</td>\n",
       "      <td>2</td>\n",
       "      <td>2</td>\n",
       "      <td>4.0</td>\n",
       "      <td>1</td>\n",
       "    </tr>\n",
       "    <tr>\n",
       "      <th>595</th>\n",
       "      <td>3</td>\n",
       "      <td>0</td>\n",
       "      <td>4.0</td>\n",
       "      <td>1</td>\n",
       "      <td>1</td>\n",
       "      <td>3.0</td>\n",
       "      <td>0</td>\n",
       "    </tr>\n",
       "  </tbody>\n",
       "</table>\n",
       "<p>712 rows × 7 columns</p>\n",
       "</div>"
      ],
      "text/plain": [
       "     Pclass  Sex  Age  SibSp  Parch  Fare  Embarked\n",
       "151       1    1  2.0      1      0   4.0         0\n",
       "753       3    0  2.0      0      0   1.0         0\n",
       "746       3    0  1.0      1      1   2.0         0\n",
       "684       2    0  7.0      1      1   3.0         0\n",
       "887       1    1  2.0      0      0   3.0         0\n",
       "..      ...  ...  ...    ...    ...   ...       ...\n",
       "31        1    1  3.0      1      0   4.0         1\n",
       "488       3    0  3.0      0      0   1.0         0\n",
       "40        3    1  4.0      1      0   1.0         0\n",
       "742       1    1  2.0      2      2   4.0         1\n",
       "595       3    0  4.0      1      1   3.0         0\n",
       "\n",
       "[712 rows x 7 columns]"
      ]
     },
     "execution_count": 266,
     "metadata": {},
     "output_type": "execute_result"
    }
   ],
   "source": [
    "train, test= train_test_split(clean_titanic_df,random_state=23, test_size = 0.2)\n",
    "\n",
    "X_train, y_train = train.drop(columns=['Survived']), train['Survived']\n",
    "X_test, y_test = test.drop(columns=['Survived']), test['Survived']\n"
   ]
  },
  {
   "cell_type": "code",
   "execution_count": 267,
   "id": "noble-verse",
   "metadata": {},
   "outputs": [
    {
     "name": "stdout",
     "output_type": "stream",
     "text": [
      "              precision    recall  f1-score   support\n",
      "\n",
      "          -1       0.82      0.86      0.84       115\n",
      "           1       0.72      0.66      0.69        64\n",
      "\n",
      "    accuracy                           0.79       179\n",
      "   macro avg       0.77      0.76      0.76       179\n",
      "weighted avg       0.78      0.79      0.79       179\n",
      "\n",
      "0.7877094972067039\n"
     ]
    }
   ],
   "source": [
    "# rerun the support vector machine\n",
    "\n",
    "clf2 = SVC(kernel = 'linear')\n",
    "clf2.fit(X_train, svm_y_train.to_numpy())\n",
    "print(classification_report(svm_y_test, clf2.predict(X_test)))\n",
    "print(clf2.score(X_test, svm_y_test))"
   ]
  },
  {
   "cell_type": "code",
   "execution_count": 274,
   "id": "private-switzerland",
   "metadata": {},
   "outputs": [
    {
     "name": "stdout",
     "output_type": "stream",
     "text": [
      "              precision    recall  f1-score   support\n",
      "\n",
      "           0       0.81      0.89      0.85       115\n",
      "           1       0.75      0.62      0.68        64\n",
      "\n",
      "    accuracy                           0.79       179\n",
      "   macro avg       0.78      0.76      0.77       179\n",
      "weighted avg       0.79      0.79      0.79       179\n",
      "\n",
      "0.7932960893854749\n"
     ]
    }
   ],
   "source": [
    "# rerun the categorical bayes classifier\n",
    "\n",
    "categorical_NB2 = CategoricalNB()\n",
    "categorical_NB2.fit(X_train, y_train)\n",
    "print(classification_report(y_test, categorical_NB2.predict(X_test)))\n",
    "print(categorical_NB2.score(X_test, y_test))\n"
   ]
  },
  {
   "cell_type": "code",
   "execution_count": 275,
   "id": "thousand-capability",
   "metadata": {},
   "outputs": [
    {
     "name": "stdout",
     "output_type": "stream",
     "text": [
      "              precision    recall  f1-score   support\n",
      "\n",
      "           0       0.81      0.82      0.81       115\n",
      "           1       0.67      0.66      0.66        64\n",
      "\n",
      "    accuracy                           0.76       179\n",
      "   macro avg       0.74      0.74      0.74       179\n",
      "weighted avg       0.76      0.76      0.76       179\n",
      "\n",
      "0.7597765363128491\n"
     ]
    }
   ],
   "source": [
    "# rerun the logistic regression model\n",
    "\n",
    "lor2 = LogisticRegression(penalty= 'none', max_iter= 1000, solver='newton-cg').fit(X_train, y_train)\n",
    "print(classification_report(y_test, lor2.predict(X_test)))\n",
    "print(lor2.score(X_test, y_test))"
   ]
  },
  {
   "cell_type": "code",
   "execution_count": null,
   "id": "sticky-disposition",
   "metadata": {},
   "outputs": [],
   "source": []
  }
 ],
 "metadata": {
  "kernelspec": {
   "display_name": "Python 3",
   "language": "python",
   "name": "python3"
  },
  "language_info": {
   "codemirror_mode": {
    "name": "ipython",
    "version": 3
   },
   "file_extension": ".py",
   "mimetype": "text/x-python",
   "name": "python",
   "nbconvert_exporter": "python",
   "pygments_lexer": "ipython3",
   "version": "3.8.2"
  }
 },
 "nbformat": 4,
 "nbformat_minor": 5
}
